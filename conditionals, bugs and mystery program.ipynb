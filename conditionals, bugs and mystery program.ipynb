{
 "cells": [
  {
   "cell_type": "code",
   "execution_count": 4,
   "metadata": {},
   "outputs": [
    {
     "name": "stdout",
     "output_type": "stream",
     "text": [
      "enter pay1\n",
      "enter locationiowa\n",
      "no thanks, I can find something better\n"
     ]
    }
   ],
   "source": [
    "# CONDITIONALS\n",
    "\n",
    "# This code chooses responses in accordance to the location and the pay offered\n",
    "\n",
    "pay = int(input('enter pay'))\n",
    "location = input('enter location')\n",
    "if location == \"uss enterprise\":\n",
    "    print(\"so long, suckers! I'll take it!\")   #if the location is space, the candidate will take the job\n",
    "elif location == 'Massachusetts':\n",
    "    if pay < 100000:\n",
    "        print ('no way')   # if the location is in MA which the candidate hates, he will not settle for less than $100k\n",
    "    else:\n",
    "        print ('ill take it!')\n",
    "elif location == 'california' and pay > 40000:    # if the location is california and the pay is greater than 40k  \n",
    "    print ('ill take it!')\n",
    "else:\n",
    "    print('no thanks, I can find something better')"
   ]
  },
  {
   "cell_type": "code",
   "execution_count": 15,
   "metadata": {},
   "outputs": [
    {
     "name": "stdout",
     "output_type": "stream",
     "text": [
      "input the divident:10\n",
      "input the divisor:7\n",
      "quotient: 1 remainder: 3\n"
     ]
    }
   ],
   "source": [
    "# FINDING BUGS \n",
    "\n",
    "def quotient(a, b):\n",
    "    a = int(input('input the divident:'))\n",
    "    b = int(input('input the divisor:'))\n",
    "    q = a//b    # interger division\n",
    "    m = a%b     # modulo\n",
    "    print('quotient:',q,'remainder:',m)\n",
    "quotient (10, 7)"
   ]
  },
  {
   "cell_type": "code",
   "execution_count": null,
   "metadata": {},
   "outputs": [],
   "source": [
    "# MYSTERY PROGRAM \n",
    "\n",
    "print('think of a number between 1 and 100, but dont tell me what you chose')\n",
    "min_n = 1\n",
    "max_n = 100 \n",
    "right_answer = False \n",
    "\n",
    "while not right_answer:\n",
    "    mid_n = (max_n + min_n + 1)//2\n",
    "    answer = input('Is it'+ str(mid_n)+ '?')"
   ]
  },
  {
   "cell_type": "code",
   "execution_count": null,
   "metadata": {},
   "outputs": [],
   "source": []
  }
 ],
 "metadata": {
  "kernelspec": {
   "display_name": "Python 3",
   "language": "python",
   "name": "python3"
  },
  "language_info": {
   "codemirror_mode": {
    "name": "ipython",
    "version": 3
   },
   "file_extension": ".py",
   "mimetype": "text/x-python",
   "name": "python",
   "nbconvert_exporter": "python",
   "pygments_lexer": "ipython3",
   "version": "3.7.0"
  }
 },
 "nbformat": 4,
 "nbformat_minor": 2
}
