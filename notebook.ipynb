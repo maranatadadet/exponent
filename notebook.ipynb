{
 "cells": [
  {
   "cell_type": "code",
   "execution_count": null,
   "metadata": {},
   "outputs": [],
   "source": [
    "a = false \n",
    "b = true \n",
    "c = false \n",
    "print (b and c)"
   ]
  },
  {
   "cell_type": "code",
   "execution_count": null,
   "metadata": {},
   "outputs": [],
   "source": [
    "# Loops----------------\n",
    "# 1/----------------\n",
    "num = 10\n",
    "while num > 3:\n",
    "    print (num)\n",
    "    num = num-1"
   ]
  },
  {
   "cell_type": "code",
   "execution_count": null,
   "metadata": {},
   "outputs": [],
   "source": [
    "#2/-------------------\n",
    "divisor = 2\n",
    "for i in range(0,10,2):\n",
    "    print(i/divisor)"
   ]
  },
  {
   "cell_type": "code",
   "execution_count": null,
   "metadata": {},
   "outputs": [],
   "source": [
    "#3/--------------------\n",
    "num = 10\n",
    "while True:\n",
    "    if num < 7:\n",
    "        break\n",
    "    print (num)\n",
    "    num -= 1"
   ]
  },
  {
   "cell_type": "code",
   "execution_count": null,
   "metadata": {},
   "outputs": [],
   "source": [
    "#4/--------------------\n",
    "count = 0\n",
    "for letter in 'snow!':\n",
    "    print ('letter #',count,'is',letter)\n",
    "    count +=1"
   ]
  },
  {
   "cell_type": "code",
   "execution_count": null,
   "metadata": {},
   "outputs": [],
   "source": [
    "# Ben Bitdiddle's problem \n",
    "n = 10\n",
    "i = 10 \n",
    "while i > 0:\n",
    "    print(i)\n",
    "    if i%2 == 0:\n",
    "        i = i/2\n",
    "    else:\n",
    "        i= i+1"
   ]
  },
  {
   "cell_type": "code",
   "execution_count": 4,
   "metadata": {},
   "outputs": [
    {
     "name": "stdout",
     "output_type": "stream",
     "text": [
      "0 10\n",
      "1 5\n",
      "2 6\n",
      "3 3\n",
      "4 4\n",
      "5 2\n",
      "6 1\n"
     ]
    }
   ],
   "source": [
    "# My solution \n",
    "i = 10\n",
    "n = 0\n",
    "#for n in range(10):\n",
    "while i > 0:\n",
    "    print(n,i)\n",
    "    n +=1\n",
    "    if i == 1:\n",
    "        break\n",
    "    elif i%2==0:\n",
    "        i = i//2\n",
    "    else:\n",
    "        i=i+1\n",
    "    "
   ]
  },
  {
   "cell_type": "code",
   "execution_count": null,
   "metadata": {},
   "outputs": [],
   "source": []
  },
  {
   "cell_type": "code",
   "execution_count": null,
   "metadata": {},
   "outputs": [],
   "source": []
  }
 ],
 "metadata": {
  "kernelspec": {
   "display_name": "Python 3",
   "language": "python",
   "name": "python3"
  },
  "language_info": {
   "codemirror_mode": {
    "name": "ipython",
    "version": 3
   },
   "file_extension": ".py",
   "mimetype": "text/x-python",
   "name": "python",
   "nbconvert_exporter": "python",
   "pygments_lexer": "ipython3",
   "version": "3.7.0"
  }
 },
 "nbformat": 4,
 "nbformat_minor": 2
}
