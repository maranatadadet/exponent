{
 "cells": [
  {
   "cell_type": "code",
   "execution_count": 53,
   "metadata": {},
   "outputs": [
    {
     "name": "stdout",
     "output_type": "stream",
     "text": [
      "[0, 10, 20, 30, 40, 50, 60, 70, 80, 90, 100]\n",
      "0 -1.0\n",
      "10 -4.539992976248486e-05\n",
      "20 -2.0611536224385583e-09\n",
      "30 -9.357622968840171e-14\n",
      "40 -4.24835425529159e-18\n",
      "50 -1.9287498479639164e-22\n",
      "60 -8.75651076269652e-27\n",
      "70 -3.975449735908648e-31\n",
      "80 -1.8048513878454156e-35\n",
      "90 -8.194012623990511e-40\n",
      "100 -3.7200759760208356e-44\n"
     ]
    }
   ],
   "source": [
    "import numpy as np\n",
    "#a = \n",
    "#x = list(a)\n",
    "\n",
    "#print(x)\n",
    "#inverse----------------------------- case\n",
    "for x in range(0,110,10):\n",
    "    sn = 0\n",
    "    for n in range(1000):\n",
    "        sn += ((-(x**n) / np.math.factorial(n)))\n",
    "    exp_x = sn\n",
    "    print(x, 1/exp_x)"
   ]
  },
  {
   "cell_type": "code",
   "execution_count": null,
   "metadata": {},
   "outputs": [],
   "source": []
  },
  {
   "cell_type": "code",
   "execution_count": null,
   "metadata": {},
   "outputs": [],
   "source": []
  }
 ],
 "metadata": {
  "kernelspec": {
   "display_name": "Python 3",
   "language": "python",
   "name": "python3"
  },
  "language_info": {
   "codemirror_mode": {
    "name": "ipython",
    "version": 3
   },
   "file_extension": ".py",
   "mimetype": "text/x-python",
   "name": "python",
   "nbconvert_exporter": "python",
   "pygments_lexer": "ipython3",
   "version": "3.7.0"
  }
 },
 "nbformat": 4,
 "nbformat_minor": 2
}
