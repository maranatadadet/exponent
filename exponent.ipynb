{
 "cells": [
  {
   "cell_type": "code",
   "execution_count": null,
   "metadata": {},
   "outputs": [],
   "source": [
    "import numpy as np\n",
    "\n",
    "#inverse----------------------------- case\n",
    "\n",
    "for x in range(0,110,10):\n",
    "    sn = 0\n",
    "    for n in range(1000):\n",
    "        sn += ((-(x**n) / np.math.factorial(n)))\n",
    "    exp_x = sn\n",
    "    f = 1/exp_x\n",
    "    print(x, 1/exp_x)"
   ]
  },
  {
   "cell_type": "code",
   "execution_count": null,
   "metadata": {},
   "outputs": [],
   "source": [
    "\n",
    "def factorial(n):\n",
    "    f= 1.0\n",
    "    for k in range(1,n+1):\n",
    "        f *= k\n",
    "    return f\n",
    "    \n",
    "a = factorial(3)\n",
    "print(a)"
   ]
  },
  {
   "cell_type": "code",
   "execution_count": 15,
   "metadata": {},
   "outputs": [
    {
     "name": "stdout",
     "output_type": "stream",
     "text": [
      "enter the period in Km90\n",
      "your satelite height is 279.32162537285967 km\n"
     ]
    }
   ],
   "source": [
    "#the altitude h above the earths surface that the satellite must have is h = (((GM(T**2))/4*(pi**2))**1/3)-R\n",
    "# Need T in minutes and h in Km\n",
    "# conversions:\n",
    "            # 1000 m in 1 Km \n",
    "            # 60 s in 1 min\n",
    "#--------------------------------------------------------------------------------------------------\n",
    "import numpy as np\n",
    "\n",
    "T = (int(input(\"enter the period in Km\")))\n",
    "\n",
    "def height(P):\n",
    "    G= 6.67*(10**-11)                  # Gravitational constant \n",
    "    M= 5.97*(10**24)                   # Mass of earth \n",
    "    R= 6371                            # Radius of earth Km\n",
    "    #1000*R                            # radius in m\n",
    "    h = ((G*M*((P*60)**2))/(4*(np.pi**2)))**(1/3)-(1000*R)\n",
    "    H = h/1000\n",
    "    return H\n",
    "\n",
    "print('your satelite height is',(height(T)),'km')\n",
    "\n",
    "        \n",
    "    "
   ]
  },
  {
   "cell_type": "code",
   "execution_count": null,
   "metadata": {},
   "outputs": [],
   "source": []
  }
 ],
 "metadata": {
  "kernelspec": {
   "display_name": "Python 3",
   "language": "python",
   "name": "python3"
  },
  "language_info": {
   "codemirror_mode": {
    "name": "ipython",
    "version": 3
   },
   "file_extension": ".py",
   "mimetype": "text/x-python",
   "name": "python",
   "nbconvert_exporter": "python",
   "pygments_lexer": "ipython3",
   "version": "3.7.0"
  }
 },
 "nbformat": 4,
 "nbformat_minor": 2
}
